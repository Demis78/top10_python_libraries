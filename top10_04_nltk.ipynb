{
 "cells": [
  {
   "cell_type": "code",
   "execution_count": 1,
   "metadata": {},
   "outputs": [],
   "source": [
    "import nltk"
   ]
  },
  {
   "cell_type": "code",
   "execution_count": 2,
   "metadata": {},
   "outputs": [],
   "source": [
    "# text example\n",
    "\n",
    "sentence = \"Sarah sells sea shells to Steven by the sea shore of Salford.\""
   ]
  },
  {
   "cell_type": "code",
   "execution_count": 3,
   "metadata": {
    "scrolled": true
   },
   "outputs": [
    {
     "data": {
      "text/plain": [
       "['Sarah',\n",
       " 'sells',\n",
       " 'sea',\n",
       " 'shells',\n",
       " 'to',\n",
       " 'Steven',\n",
       " 'by',\n",
       " 'the',\n",
       " 'sea',\n",
       " 'shore',\n",
       " 'of',\n",
       " 'Salford',\n",
       " '.']"
      ]
     },
     "execution_count": 3,
     "metadata": {},
     "output_type": "execute_result"
    }
   ],
   "source": [
    "# break into tokens (words and punctuation)\n",
    "\n",
    "tokens = nltk.word_tokenize(sentence)\n",
    "tokens"
   ]
  },
  {
   "cell_type": "code",
   "execution_count": 4,
   "metadata": {},
   "outputs": [
    {
     "data": {
      "text/plain": [
       "[('Sarah', 'NNP'),\n",
       " ('sells', 'VBZ'),\n",
       " ('sea', 'NN'),\n",
       " ('shells', 'NNS'),\n",
       " ('to', 'TO'),\n",
       " ('Steven', 'NNP'),\n",
       " ('by', 'IN'),\n",
       " ('the', 'DT'),\n",
       " ('sea', 'NN'),\n",
       " ('shore', 'NN'),\n",
       " ('of', 'IN'),\n",
       " ('Salford', 'NNP'),\n",
       " ('.', '.')]"
      ]
     },
     "execution_count": 4,
     "metadata": {},
     "output_type": "execute_result"
    }
   ],
   "source": [
    "# identify what those tokens are\n",
    "# eg PRP is a preposition, NN is a noun, VBZ is a verb\n",
    "# more here https://cs.nyu.edu/grishman/jet/guide/PennPOS.html\n",
    "\n",
    "tagged = nltk.pos_tag(tokens)\n",
    "tagged"
   ]
  },
  {
   "cell_type": "code",
   "execution_count": 5,
   "metadata": {},
   "outputs": [
    {
     "data": {
      "image/png": "[encoded data removed]",
      "text/plain": [
       "Tree('S', [Tree('PERSON', [('Sarah', 'NNP')]), ('sells', 'VBZ'), ('sea', 'NN'), ('shells', 'NNS'), ('to', 'TO'), Tree('PERSON', [('Steven', 'NNP')]), ('by', 'IN'), ('the', 'DT'), ('sea', 'NN'), ('shore', 'NN'), ('of', 'IN'), Tree('GPE', [('Salford', 'NNP')]), ('.', '.')])"
      ]
     },
     "execution_count": 5,
     "metadata": {},
     "output_type": "execute_result"
    }
   ],
   "source": [
    "# extract entities if possible\n",
    "\n",
    "entities = nltk.chunk.ne_chunk(tagged)\n",
    "entities"
   ]
  },
  {
   "cell_type": "code",
   "execution_count": null,
   "metadata": {},
   "outputs": [],
   "source": []
  }
 ],
 "metadata": {
  "kernelspec": {
   "display_name": "Python 3",
   "language": "python",
   "name": "python3"
  },
  "language_info": {
   "codemirror_mode": {
    "name": "ipython",
    "version": 3
   },
   "file_extension": ".py",
   "mimetype": "text/x-python",
   "name": "python",
   "nbconvert_exporter": "python",
   "pygments_lexer": "ipython3",
   "version": "3.6.6"
  }
 },
 "nbformat": 4,
 "nbformat_minor": 2
}
