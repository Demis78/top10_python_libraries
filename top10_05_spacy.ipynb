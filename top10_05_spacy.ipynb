{
 "cells": [
  {
   "cell_type": "code",
   "execution_count": 1,
   "metadata": {},
   "outputs": [],
   "source": [
    "import spacy"
   ]
  },
  {
   "cell_type": "code",
   "execution_count": 2,
   "metadata": {},
   "outputs": [],
   "source": [
    "# Load English tokenizer, tagger, parser, NER and word vectors\n",
    "nlp = spacy.load('en_core_web_sm')"
   ]
  },
  {
   "cell_type": "markdown",
   "metadata": {},
   "source": [
    "## extract people from shakespeare"
   ]
  },
  {
   "cell_type": "code",
   "execution_count": 3,
   "metadata": {},
   "outputs": [],
   "source": [
    "text = \"\"\"\n",
    "Now is the winter of our discontent \n",
    "Made glorious summer by this sun of York; \n",
    "And all the clouds that lour'd upon our house \n",
    "In the deep bosom of the ocean buried. \n",
    "Now are our brows bound with victorious wreaths; \n",
    "Our bruised arms hung up for monuments; \n",
    "Our stern alarums changed to merry meetings, \n",
    "Our dreadful marches to delightful measures. \n",
    "Grim-visaged war hath smooth'd his wrinkled front; \n",
    "And now, instead of mounting barded steeds \n",
    "To fright the souls of fearful adversaries, \n",
    "He capers nimbly in a lady's chamber \n",
    "To the lascivious pleasing of a lute. \n",
    "But I, that am not shaped for sportive tricks, \n",
    "Nor made to court an amorous looking-glass; \n",
    "I, that am rudely stamp'd, and want love's majesty \n",
    "To strut before a wanton ambling nymph; \n",
    "I, that am curtail'd of this fair proportion, \n",
    "Cheated of feature by dissembling nature, \n",
    "Deformed, unfinish'd, sent before my time \n",
    "Into this breathing world, scarce half made up, \n",
    "And that so lamely and unfashionable \n",
    "That dogs bark at me as I halt by them; \n",
    "Why, I, in this weak piping time of peace, \n",
    "Have no delight to pass away the time, \n",
    "Unless to spy my shadow in the sun \n",
    "And descant on mine own deformity: \n",
    "And therefore, since I cannot prove a lover, \n",
    "To entertain these fair well-spoken days, \n",
    "I am determined to prove a villain \n",
    "And hate the idle pleasures of these days. \n",
    "Plots have I laid, inductions dangerous, \n",
    "By drunken prophecies, libels and dreams, \n",
    "To set my brother Clarence and the king \n",
    "In deadly hate the one against the other: \n",
    "And if King Edward be as true and just \n",
    "As I am subtle, false and treacherous, \n",
    "This day should Clarence closely be mew'd up, \n",
    "About a prophecy, which says that 'G' \n",
    "Of Edward's heirs the murderer shall be. \n",
    "Dive, thoughts, down to my soul: here \n",
    "Clarence comes. \n",
    "\"\"\""
   ]
  },
  {
   "cell_type": "code",
   "execution_count": 4,
   "metadata": {},
   "outputs": [],
   "source": [
    "# analyse text\n",
    "doc = nlp(text)"
   ]
  },
  {
   "cell_type": "code",
   "execution_count": 5,
   "metadata": {},
   "outputs": [
    {
     "name": "stdout",
     "output_type": "stream",
     "text": [
      "Clarence\n",
      "Edward\n",
      "Clarence\n",
      "Edward\n",
      "Clarence\n"
     ]
    }
   ],
   "source": [
    "# find named entities, phrases and concepts\n",
    "for entity in doc.ents:\n",
    "    if entity.label_=='PERSON':\n",
    "        print(entity.text)\n",
    "        pass"
   ]
  },
  {
   "cell_type": "markdown",
   "metadata": {},
   "source": [
    "## document similarities"
   ]
  },
  {
   "cell_type": "code",
   "execution_count": 6,
   "metadata": {},
   "outputs": [
    {
     "name": "stdout",
     "output_type": "stream",
     "text": [
      "now is the winter of our discontent\n",
      "use a finely milled high gluten flour\n",
      "0.4743613411162099\n"
     ]
    }
   ],
   "source": [
    "# Determine semantic similarities\n",
    "\n",
    "doc1 = nlp(u\"now is the winter of our discontent\")\n",
    "doc2 = nlp(u\"use a finely milled high gluten flour\")\n",
    "\n",
    "similarity = doc1.similarity(doc2)\n",
    "print(doc1.text)\n",
    "print(doc2.text)\n",
    "print(similarity)"
   ]
  },
  {
   "cell_type": "code",
   "execution_count": 7,
   "metadata": {},
   "outputs": [
    {
     "name": "stdout",
     "output_type": "stream",
     "text": [
      "my fries were super gross\n",
      "such disgusting fries\n",
      "0.7139702518721635\n"
     ]
    }
   ],
   "source": [
    "# Determine semantic similarities\n",
    "\n",
    "doc1 = nlp(u\"my fries were super gross\")\n",
    "doc2 = nlp(u\"such disgusting fries\")\n",
    "\n",
    "similarity = doc1.similarity(doc2)\n",
    "print(doc1.text)\n",
    "print(doc2.text)\n",
    "print(similarity)"
   ]
  },
  {
   "cell_type": "code",
   "execution_count": null,
   "metadata": {},
   "outputs": [],
   "source": []
  }
 ],
 "metadata": {
  "kernelspec": {
   "display_name": "Python 3",
   "language": "python",
   "name": "python3"
  },
  "language_info": {
   "codemirror_mode": {
    "name": "ipython",
    "version": 3
   },
   "file_extension": ".py",
   "mimetype": "text/x-python",
   "name": "python",
   "nbconvert_exporter": "python",
   "pygments_lexer": "ipython3",
   "version": "3.6.6"
  }
 },
 "nbformat": 4,
 "nbformat_minor": 2
}
